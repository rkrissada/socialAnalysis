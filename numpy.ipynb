{
 "cells": [
  {
   "cell_type": "code",
   "execution_count": 3,
   "metadata": {},
   "outputs": [
    {
     "name": "stdout",
     "output_type": "stream",
     "text": [
      "488683\n",
      "time of list:  174765\n",
      "488683\n",
      "time of list:  2398\n"
     ]
    }
   ],
   "source": [
    "import random\n",
    "import numpy as np\n",
    "import datetime\n",
    "\n",
    "data1 = [[random.randint(0,99) for j in range(1000)] for i in range(1000)]\n",
    "count = 0\n",
    "\n",
    "start_time = datetime.datetime.now()\n",
    "for i in range(1000):\n",
    "    for j in range(1000):\n",
    "        if data1[i][j] > 50:\n",
    "            count += 1\n",
    "\n",
    "end_time = datetime.datetime.now()\n",
    "print(count)\n",
    "print('time of list: ',(end_time-start_time).microseconds)\n",
    "\n",
    "data2 = np.array(data1)\n",
    "\n",
    "start_time = datetime.datetime.now()\n",
    "count = np.sum(data2 > 50)\n",
    "end_time = datetime.datetime.now()\n",
    "print(count)\n",
    "print('time of list: ',(end_time-start_time).microseconds)"
   ]
  },
  {
   "cell_type": "code",
   "execution_count": 8,
   "metadata": {},
   "outputs": [
    {
     "name": "stdout",
     "output_type": "stream",
     "text": [
      "[[3 4]\n",
      " [5 6]]\n",
      "[[5 6]\n",
      " [7 8]]\n",
      "[[15 24]\n",
      " [35 48]]\n",
      "[[ 8 10]\n",
      " [12 14]]\n",
      "[[-2 -2]\n",
      " [-2 -2]]\n",
      "[[0.6        0.66666667]\n",
      " [0.71428571 0.75      ]]\n",
      "[[2 2 4]\n",
      " [5 5 7]]\n",
      "[[43 50]\n",
      " [67 78]]\n"
     ]
    }
   ],
   "source": [
    "import numpy as np\n",
    "\n",
    "a=np.array([[3,4],[5,6]])\n",
    "b=np.array([[5,6],[7,8]])\n",
    "\n",
    "print(a)\n",
    "print(b)\n",
    "\n",
    "print(a*b)\n",
    "print(a+b)\n",
    "print(a-b)\n",
    "print(a/b)\n",
    "\n",
    "c=np.array([[1,2,3],[4,5,6]])\n",
    "d=np.array([[1,0,1]])\n",
    "\n",
    "# array d will automatic boardcasting [[1,0,1],[1,0,1]]\n",
    "print(c+d)\n",
    "\n",
    "#dot product\n",
    "print(a.dot(b))"
   ]
  },
  {
   "cell_type": "code",
   "execution_count": null,
   "metadata": {},
   "outputs": [],
   "source": [
    "import numpy as np\n",
    "d=np.loadtxt('sample_data.csv',delimiter=',',skiprows=1,usecols=(1,2,3,4,5))\n",
    "print(d)\n",
    "print(np.sum(d,axis=1))\n",
    "print(d.dot(np.ones((5,1))))\n",
    "\n",
    "prices=np.array([[20,10,50,90]])\n",
    "print(prices.dot(d))\n",
    "print(d.dot(np.ones((5,1)))*prices.T)"
   ]
  },
  {
   "cell_type": "code",
   "execution_count": 16,
   "metadata": {},
   "outputs": [
    {
     "data": {
      "image/png": "[encoded data removed]",
      "text/plain": [
       "<Figure size 432x288 with 1 Axes>"
      ]
     },
     "metadata": {
      "needs_background": "light"
     },
     "output_type": "display_data"
    }
   ],
   "source": [
    "import numpy as np\n",
    "import matplotlib.pyplot as plt\n",
    "\n",
    "x = np.arange(-5,5,0.2)\n",
    "#print(x)\n",
    "y = 2*x+5\n",
    "#print(y)\n",
    "y2 = x**2+2*x-3  #x^2 + 2x -3 = Parabola\n",
    "\n",
    "plt.plot(x,y)\n",
    "plt.plot(x,y2)\n",
    "plt.xticks(np.arange(-5,5.1,1))\n",
    "plt.show()"
   ]
  },
  {
   "cell_type": "code",
   "execution_count": 4,
   "metadata": {},
   "outputs": [
    {
     "data": {
      "text/plain": [
       "dict_values([28, 20, 37, 23, 5, 40, 5, 6, 6, 7, 6, 178, 10, 10, 122, 7, 121, 13, 98, 35, 48, 39, 231, 23, 5, 91, 11, 13, 66, 23, 15, 102, 3, 4, 40, 243, 21, 14, 133, 82, 3, 45, 9, 91, 10, 6, 20, 41, 35, 45, 151, 101, 105, 110, 118, 115, 12, 7, 29, 3, 48, 59, 79, 175, 4, 6, 12, 88, 132, 119, 13, 5, 36, 215, 4, 2, 123, 100, 17, 7, 5, 278, 6, 2, 2, 2, 8, 2, 1, 2, 21, 11, 8, 2, 62, 188, 34, 24, 21, 19, 20, 23, 32, 9, 23, 9, 6, 7, 6, 31, 70, 2, 2, 13, 22, 2, 4, 2, 7, 3, 35, 13, 23, 5, 25, 28, 35, 5, 3, 7, 1, 38, 1, 8, 4, 1, 98, 13, 5, 1, 16, 1, 25, 2, 8, 1, 9, 1, 1, 8, 2, 2, 8, 38, 9, 1, 10, 17, 26, 7, 16, 13, 3, 13, 1, 42, 83, 50, 70, 45, 3, 4, 3, 5, 2, 3, 3, 4, 3, 8, 2, 2, 4, 11, 3, 2, 5, 9, 2, 4, 2, 5, 134, 44, 44, 44, 44, 22, 44, 44, 44, 44, 33, 205, 34, 25, 26, 13, 27, 30, 22, 99, 37, 4, 3, 3, 3, 44, 22, 26, 22, 14, 62, 2, 3, 2, 31, 1, 5, 4, 4, 1, 4, 4, 10, 1, 3, 7, 1, 22, 5, 5, 7, 1, 1, 1, 3, 1, 1, 2, 16, 7, 11, 21, 1, 11, 9, 2, 9, 31, 5, 36, 156, 5, 49, 3, 3, 15, 7, 11, 13, 7, 7, 14, 1, 1, 73, 1, 6, 2, 3, 1, 25, 1, 1, 1, 1, 8, 36, 1, 1, 10, 1, 13, 16, 22, 1, 1, 6, 12, 1, 8, 2, 1, 3, 14, 16, 6, 5, 17, 14, 4, 9, 1, 5, 2, 14, 12, 6, 1, 1, 9, 1, 1, 9, 3, 19, 4, 3, 21, 19, 7, 16, 5, 18, 14, 1, 1, 2, 4, 10, 1, 1, 3, 1, 1, 1, 27, 21, 4, 1, 39, 12, 37, 1, 14, 12, 7, 5, 5, 2, 7, 2, 2, 13, 4, 5, 1, 14, 4, 1, 1, 1, 36, 1, 4, 32, 1, 1, 1, 1, 2, 36, 4, 2, 35, 5, 10, 1, 1, 2, 2, 1, 25, 1, 2, 3, 12, 16, 14, 9, 18, 20, 7, 10, 8, 17, 8, 4, 10, 3, 17, 9, 1, 1, 1, 4, 4, 16, 1, 5, 8, 2, 23, 3, 1, 2, 15, 4, 1, 1, 2, 21, 11, 2, 13, 2, 2, 2, 7, 9, 8, 2, 2, 2, 2, 5, 1, 1, 1, 16, 1, 17, 32, 12, 3, 1, 1, 4, 2, 1, 1, 3, 12, 10, 1, 1, 2, 2, 4, 1, 3, 2, 5, 4, 6, 1, 1, 1, 1, 1, 4, 1, 2, 14, 1, 1, 1, 1, 3, 1, 1, 9, 6, 2, 5, 4, 1, 22, 1, 3, 1, 1, 1, 11, 2, 1, 27, 1, 1, 1, 1, 1, 3, 7, 4, 21, 3, 7, 1, 2, 1, 4, 5, 4, 3, 4, 5, 7, 5, 5, 5, 33, 14, 21, 8, 6, 4, 10, 6, 3, 9, 9, 2, 6, 2, 3, 2, 6, 3, 6, 15, 2, 2, 3, 6, 11, 19, 1, 6, 32, 3, 16, 6, 20, 24, 25, 22, 1, 1, 3, 1, 1, 4, 1, 61, 1, 1, 3, 1, 1, 1, 1, 1, 38, 2, 2, 1, 2, 1, 1, 1, 3, 5, 1, 2, 17, 7, 7, 11, 1, 24, 29, 14, 3, 5, 1, 1, 2, 1, 107, 10, 1, 2, 30, 15, 19, 2, 3, 1, 6, 4, 2, 3, 8, 2, 1, 14, 6, 1, 1, 2, 3, 1, 1, 2, 12, 1, 16, 3, 1, 6, 1, 2, 1, 1, 5, 1, 4, 4, 4, 1, 2, 1, 1, 1, 4, 5, 5, 15, 2, 2, 3, 2, 2, 4, 5, 1, 2, 2, 2, 1, 2, 2, 1, 1, 1, 1, 1, 3, 6, 1, 11, 13, 3, 13, 1, 2, 2, 3, 17, 1, 2, 1, 1, 1, 1, 1, 1, 1, 2, 3, 6, 1, 10, 1, 1, 3, 5, 3, 3, 7, 3, 1, 2, 13, 1, 2, 1, 16, 1, 29, 3, 1, 27, 1, 1, 1, 4, 6, 1, 1, 1, 1, 1, 4, 6, 5, 5, 1, 3, 1, 1, 2, 1, 1, 1, 57, 1, 3, 1, 1, 8, 16, 7, 7, 7, 9, 2, 3, 5, 7, 10, 5, 7, 10, 10, 4, 1, 1, 5, 1, 4, 1, 1, 2, 1, 18, 1, 1, 1, 11, 1, 1, 1, 1, 1, 1, 1, 1, 3, 1, 6, 2, 1, 1, 2, 1, 1, 1, 39, 1, 2, 2, 1, 1, 1, 1, 1, 4, 4, 4, 3, 1, 2, 14, 3, 6, 2, 2, 1, 3, 2, 4, 6, 11, 6, 1, 2, 7, 8, 1, 6, 3, 5, 17, 4, 3, 2, 4, 2, 4, 1, 4, 2, 8, 1, 1, 2, 1, 3, 3, 3, 4, 13, 15, 2, 2, 10, 2, 6, 5, 2, 2, 1, 3, 2, 3, 3, 1, 1, 2, 4, 1, 8, 1, 1, 8, 3, 12, 6, 1, 1, 12, 10, 2, 12, 2, 8, 3, 2, 1, 2, 1, 2, 2, 1, 1, 1, 2, 1, 3, 1, 2, 22, 7, 7, 12, 2, 3, 2, 1, 1, 1, 1, 1, 1, 47, 5, 4, 4, 1, 1, 1, 1, 1, 1, 16, 9, 2, 1, 6, 3, 11, 3, 6, 6, 2, 4, 2, 1, 1, 1, 1, 2, 2, 2, 1, 1, 1, 1, 1, 1, 1, 1, 5, 1, 2, 21, 2, 1, 1, 4, 4, 1, 2, 3, 6, 5, 10, 9, 2, 2, 6, 3, 2, 5, 9, 11, 9, 2, 7, 1, 1, 1, 2, 1, 1, 12, 1, 1, 3, 4, 28, 2, 6, 3, 2, 2, 2, 8, 3, 5, 8, 1, 8, 8, 1, 1, 1, 7, 7, 2, 4, 1, 1, 9, 1, 7, 2, 5, 1, 1, 2, 1, 7, 5, 5, 1, 2, 3, 2, 8, 1, 1, 1, 2, 2, 9, 2, 1, 1, 1, 1, 3, 2, 1, 1, 2, 1, 3, 15, 1, 1, 1, 1, 4, 2, 2, 9, 3, 1, 1, 1, 3, 1, 2, 10, 2, 1, 2, 1, 4, 2, 1, 6, 1, 1, 1, 1, 1, 1, 2, 3, 2, 3, 3, 3, 3, 4, 2, 3, 4, 3, 1, 1, 1, 2, 1, 1, 1, 1, 2, 2, 3, 15, 2, 8, 7, 1, 1, 1, 5, 4, 1, 5, 1, 1, 1, 1, 1, 2, 3, 1, 1, 2, 27, 3, 1, 3, 2, 2, 3, 2, 4, 21, 6, 2, 3, 1, 1, 1, 1, 5, 1, 2, 3, 2, 4, 1, 1, 38, 1, 1, 9, 5, 11, 1, 1, 1, 2, 3, 1, 3, 6, 7, 3, 1, 1, 3, 4, 4, 7, 12, 5, 1, 2, 4, 3, 2, 4, 1, 1, 1, 1, 25, 1, 1, 1, 1, 7, 5, 6, 1, 1, 2, 2, 6, 1, 1, 1, 4, 4, 1, 1, 2, 2, 2, 5, 3, 2, 2, 2, 2, 2, 2, 1, 2, 7, 2, 3, 2, 1, 3, 2, 1, 1, 1, 1, 6, 5, 3, 5, 3, 2, 1, 1, 1, 1, 1, 1, 1, 1, 2, 1, 1, 1, 1, 1, 1, 1, 1, 3, 3, 1, 1, 1, 1, 1, 1, 1, 1, 1, 1, 1, 1, 1, 1, 3, 4, 4, 6, 1, 1, 1, 2, 2, 1, 1, 1, 1, 1, 1, 1, 6, 3, 1, 1, 1, 1, 1, 15, 1, 1, 2, 2, 1, 1, 4, 13, 1, 1, 2, 3, 1, 3, 1, 4, 1, 5, 1, 1, 1, 1, 4, 1, 2, 11, 8, 8, 2, 2, 1, 3, 3, 2, 1, 1, 3, 1, 1, 1, 2, 1, 1, 3, 1, 1, 1, 2, 2, 1, 1, 1, 1, 1, 4, 6, 5, 3, 2, 10, 7, 3, 16, 13, 19, 1, 2, 2, 1, 1, 1, 1, 15, 8, 7, 5, 2, 3, 3, 6, 3, 4, 6, 1, 1, 1, 1, 3, 3, 1, 1, 3, 1, 1, 1, 3, 3, 5, 1, 8, 3, 1, 4, 1, 1, 1, 1, 1, 2, 1, 2, 2, 3, 1, 6, 1, 1, 1, 4, 2, 2, 4, 1, 2, 5, 3, 2, 1, 1, 1, 1, 5, 1, 3, 1, 1, 5, 1, 1, 1, 3, 1, 5, 1, 3, 2, 2, 1, 1, 2, 3, 1, 1, 2, 1, 1, 1, 1, 1, 2, 1, 1, 1, 1, 1, 1, 1, 1, 1, 1, 1, 1, 1, 1, 1, 1, 1, 3, 1, 1, 1, 2, 1, 1, 2, 2, 1, 1, 2, 1, 6, 1, 2, 2, 2, 5, 1, 1, 4, 22, 1, 1, 4, 1, 1, 2, 1, 1, 1, 2, 1, 1, 2, 1, 1, 1, 1, 1, 1, 1, 1, 1, 1, 1, 1, 1, 1, 2, 3, 1, 1, 1, 2, 1, 2, 1, 1, 1, 1, 1, 1, 1, 1, 1, 1, 1, 2, 1, 2, 1, 1, 1, 2, 1, 5, 1, 1, 2, 4, 1, 1, 1, 1, 1, 3, 1, 1, 1, 1, 1, 1, 1, 5, 2, 2, 2, 2, 2, 2, 2, 3, 2, 9, 2, 4, 2, 1, 1, 4, 7, 2, 4, 1, 1, 1, 1, 1, 1, 3, 15, 4, 3, 1, 2, 1, 1, 1, 1, 1, 1, 1, 1, 1, 1, 1, 1, 2, 2, 4, 2, 1, 1, 1, 1, 2, 1, 1, 1, 1, 1, 2, 1, 1, 1, 1, 1, 1, 2, 1, 1, 1, 2, 12, 2, 1, 2, 1, 1, 1, 9, 1, 1, 1, 1, 2, 1, 12, 1, 3, 2, 2, 2, 2, 1, 1, 1, 2, 1, 1, 4, 1, 2, 12, 1, 1, 1, 1, 1, 1, 2, 2, 2, 1, 2, 1, 3, 1, 1, 1, 8, 5, 5, 5, 5, 2, 3, 2, 1, 2, 2, 1, 2, 1, 2, 1, 1, 1, 2, 1, 1, 1, 1, 3, 1, 1, 1, 1, 1, 1, 1, 2, 1, 1, 2, 1, 10, 1, 1, 1, 1, 2, 1, 1, 1, 2, 1, 7, 3, 3, 1, 1, 1, 7, 1, 1, 1, 1, 1, 1, 1, 1, 1, 1, 9, 2, 1, 1, 3, 2, 1, 3, 2, 2, 1, 5, 2, 3, 1, 2, 1, 2, 1, 1, 4, 1, 1, 1, 1, 1, 1, 1, 1, 2, 1, 1, 1, 1, 1, 1, 1, 1, 1, 1, 1, 1, 1, 1, 1, 1, 3, 6, 2, 2, 2, 2, 2, 3, 4, 2, 2, 2, 2, 1, 2, 1, 1, 1, 1, 6, 1, 1, 1, 1, 1, 1, 2, 1, 1, 2, 2, 2, 1, 1, 1, 2, 2, 2, 3, 3, 2, 2, 2, 1, 1, 1, 1, 1, 1, 1, 1, 1, 1, 2, 1, 2, 2, 1, 1, 1, 1, 2, 1, 1, 1, 1, 3, 3, 1, 1, 2, 1, 1, 1, 1, 3, 3, 1, 1, 4, 1, 4, 4, 2, 4, 2, 2, 2, 2, 4, 4, 4, 27, 4, 6, 4, 3, 3, 6, 6, 2, 2, 1, 5, 2, 10, 2, 1, 1, 1, 10, 4, 1, 4, 3, 2, 1, 2, 1, 1, 2, 1, 2, 1, 2, 1, 2, 3, 2, 1, 1, 1, 2, 1, 1, 3, 3, 1, 1, 1, 6, 9, 2, 9, 2, 1, 8, 4, 6, 1, 5, 3, 2, 6, 2, 3, 2, 1, 1, 2, 2, 2, 4, 2, 1, 6, 2, 5, 8, 7, 3, 4, 5, 3, 1, 4, 2, 4, 5, 4, 7, 5, 7, 1, 2, 1, 1, 1, 2, 2, 2, 1, 1, 1, 1, 1, 1, 1, 1, 1, 1, 1, 1, 1, 1, 1, 1, 3, 1, 1, 1, 1, 1, 1, 1, 1, 1, 1, 1, 1, 1, 1, 1, 1, 4, 5, 1, 3, 3, 4, 2, 2, 2, 1, 1, 1, 1, 3, 3, 2, 1, 1, 1, 2, 1, 9, 2, 1, 1, 2, 1, 2, 1, 1, 2, 2, 1, 1, 1, 1, 1, 2, 1, 1, 1, 1, 1, 1, 1, 1, 1, 1, 1, 2, 1, 5, 3, 2, 2, 2, 1, 1, 1, 1, 1, 1, 1, 1, 1, 1, 1, 1, 1, 1, 1, 1, 1, 1, 1, 3, 1, 1, 1, 1, 4, 1, 1, 1, 1, 1, 2, 1, 2, 1, 1, 2, 1, 2, 2, 1, 1, 2, 1, 1, 1, 1, 3, 1, 1, 1, 1, 1, 3, 3, 1, 1, 6, 1, 1, 3, 1, 1, 2, 1, 1, 1, 1, 3, 1, 2, 3, 2, 1, 1, 2, 2, 1, 1, 1, 1, 1, 1, 1, 1, 1, 1, 1, 3, 1, 2, 1, 1, 2, 1, 1, 1, 1, 1, 3, 3, 2, 3, 1, 1, 1, 1, 2, 1, 6, 3, 1, 1, 1, 1, 3, 1, 1, 1, 5, 2, 2, 1, 1, 1, 2, 2, 1, 1, 3, 2, 1, 3, 1, 1, 2, 1, 1, 1, 3, 1, 1, 1, 1, 1, 1, 1, 1, 1, 1, 1, 1, 15, 1, 4, 3, 3, 3, 1, 2, 2, 5, 1, 1, 1, 1, 1, 1, 1, 1, 1, 1, 1, 1, 1, 1, 1, 1, 1, 1, 1, 1, 1, 1, 1, 2, 1, 1, 1, 4, 1, 1, 1, 1, 3, 1, 1, 1, 3, 1, 1, 1, 1, 1, 1, 2, 5, 2, 2, 4, 1, 1, 2, 2, 3, 2, 2, 1, 1, 1, 1, 1, 1, 1, 1, 1, 5, 1, 1, 1, 1, 2, 1, 2, 1, 1, 1, 1, 1, 1, 1, 2, 1, 1, 1, 1, 1, 1, 1, 2, 1, 1, 1, 1, 1, 1, 1, 1, 1, 1, 1, 1, 1, 1, 2, 1, 2, 2, 2, 3, 4, 2, 2, 2, 2, 1, 4, 1, 5, 1, 1, 1, 1, 1, 1, 1, 2, 2, 1, 2, 1, 3, 1, 1, 1, 1, 1, 1, 1, 1, 1, 2, 1, 1, 1, 1, 1, 1, 1, 1, 1, 1, 1, 3, 1, 1, 1, 1, 1, 1, 1, 1, 1, 1, 1, 1, 1, 1, 1, 1, 1, 1, 1, 2, 1, 2, 1, 1, 1, 1, 1, 1, 1, 2, 1, 1, 1, 2, 1, 1, 3, 1, 1, 1, 2, 1, 1, 1, 1, 2, 2, 1, 2, 1, 2, 3, 1, 1, 1, 1, 3, 1, 3, 2, 3, 1, 5, 1, 1, 1, 1, 4, 1, 1, 1, 1, 2, 1, 1, 1, 1, 1, 2, 1, 2, 1, 1, 3, 2, 3, 2, 2, 1, 1, 1, 2, 2, 1, 1, 1, 1, 1, 2, 1, 1, 1, 1, 2, 1, 2, 1, 1, 1, 1, 1, 1, 1, 1, 2, 1, 1, 1, 4, 1, 5, 1, 1, 1, 1, 5, 2, 1, 1, 1, 1, 1, 1, 1, 1, 1, 1, 1, 1, 1, 1, 1, 1, 1, 1, 1, 2, 1, 1, 1, 1, 1, 1, 2, 1, 1, 1, 1, 1, 1, 1, 1, 1, 1, 1, 1, 2, 2, 3, 5, 1, 2, 3, 1, 1, 1, 1, 3, 12, 3, 3, 2, 1, 1, 1, 1, 2, 1, 1, 1, 1, 1, 1, 1, 1, 1, 1, 1, 1, 1, 1, 1, 1, 1, 1, 1, 1, 1, 1, 1, 1, 1, 1, 1, 1, 1, 1, 1, 2, 1, 1, 1, 1, 1, 2, 2, 7, 6, 6, 9, 3, 5, 3, 2, 1, 4, 4, 2, 1, 1, 2, 2, 5, 4, 1, 1, 1, 2, 2, 1, 2, 2, 1, 1, 1, 1, 3, 3, 1, 6, 3, 1, 1, 2, 1, 2, 2, 1, 1, 1, 1, 1, 4, 1, 1, 2, 1, 1, 1, 1, 1, 1, 2, 1, 2, 3, 1, 2, 1, 1, 1, 1, 1, 1, 1, 1, 1, 1, 1, 1, 1, 1, 1, 1, 1, 1, 1, 1, 1, 1, 2, 1, 1, 3, 1, 1, 1, 1, 1, 1, 1, 1, 1, 1, 2, 1, 1, 1, 1, 1, 1, 1, 2, 2, 2, 1, 1, 1, 1, 1, 1, 1, 2, 2, 1, 1, 1, 1, 1, 1, 1, 1, 1, 2, 1, 1, 1, 1, 1, 1, 1, 1, 1, 1, 1, 2, 2, 2, 1, 3, 1, 1, 1, 1, 1, 1, 1, 1, 1, 1, 1, 1, 1, 1, 1, 1, 1, 1, 1, 1, 1, 1, 4, 2, 1, 1, 2, 2, 3, 2, 2, 2, 1, 7, 1, 1, 1, 1, 1, 1, 1, 1, 1, 2, 1, 1, 1, 2, 1, 1, 1, 1, 1, 1, 1, 1, 1, 1, 1, 1, 1, 1, 1, 2, 2, 2, 2, 2, 3, 2, 2, 1, 1, 2, 1, 1, 1, 1, 1, 2, 1, 4, 2, 1, 3, 2, 2, 1, 1, 1, 1, 2, 1, 1, 1, 1, 1, 1, 1, 1, 1, 1, 1, 1, 1, 1, 1, 3, 2, 1, 1, 1, 1, 1, 1, 1, 1, 1, 1, 1, 1, 1, 1, 1, 1, 2, 1, 2, 1, 2, 1, 1, 1, 1, 1, 1, 1, 1, 2, 1, 1, 1, 1, 1, 1, 1, 1, 1, 1, 1, 1, 1, 1, 1, 1, 1, 1, 1, 1, 1, 1, 1, 1, 1, 1, 1, 1, 1, 1, 1, 1, 1, 1, 1, 1, 1, 1, 1, 2, 1, 2, 1, 6, 6, 6, 3, 7, 1, 1, 4, 5, 1, 3, 1, 2, 1, 2, 1, 1, 1, 1, 2, 1, 1, 1, 3, 1, 1, 4, 1, 2, 1, 1, 1, 1, 1, 3, 1, 1, 1, 1, 1, 2, 2, 2, 1, 1, 1, 1, 1, 1, 1, 1, 1, 2, 2, 1, 2, 1, 1, 1, 3, 1, 1, 1, 1, 1, 2, 2, 1, 1, 1, 2, 1, 1, 1, 1, 1, 2, 3, 1, 1, 1, 2, 2, 1, 1, 2, 1, 2, 1, 1, 1, 1, 1, 2, 3, 1, 1, 1, 1, 1, 1, 1, 1, 1, 1, 1, 1, 1, 1, 1, 2, 1, 1, 1, 1, 1, 2, 1, 2, 1, 1, 1, 1, 1, 1, 2, 1, 1, 2, 2, 1, 1, 1, 1, 1, 1, 1, 1, 1, 1, 1, 1, 1, 1, 1, 1, 2, 1, 1, 1, 1, 1, 1, 2, 1, 1, 1, 1, 1, 1, 1, 2, 1, 1, 1, 1, 1, 1, 1, 1, 1, 2, 1, 2, 3, 2, 2, 1, 1, 1, 2, 2, 1, 1, 1, 1, 1, 1, 1, 1, 1, 1, 1, 1, 1, 1, 1, 1, 1, 1, 1, 1, 1, 1, 1, 1, 1, 1, 1, 1, 1, 1, 1, 1, 1, 1, 1, 1, 1, 1, 1, 1, 1, 1, 1, 1, 1, 8, 1, 1, 1, 2, 2, 1, 1, 1, 1, 1, 2, 1, 1, 1, 1, 1, 1, 1, 1, 1, 1, 1, 1, 1, 1, 1, 1, 1, 1, 1, 1, 1, 1, 1, 1, 1, 1, 1, 1, 1, 1, 1, 1, 1, 1, 1, 1, 1, 1, 1, 1, 1, 1, 2, 1, 1, 2, 2, 2, 1, 1, 1, 1, 1, 2, 3, 1, 1, 1, 1, 2, 2, 1, 1, 1, 1, 1, 3, 3, 1, 1, 1, 1, 1, 1, 1, 1, 1, 1, 1, 1, 1, 1, 1, 1, 1, 1, 1, 1, 1, 1, 1, 1, 1, 1, 1, 1, 1, 2, 1, 1, 1, 4, 2, 2, 4, 1, 1, 1, 1, 1, 1, 1, 1, 1, 2, 1, 1, 1, 1, 1, 1, 1, 1, 1, 1, 1, 1, 1, 1, 1, 1, 1, 1, 1, 1, 1, 1, 1, 1, 1, 1, 1, 1, 1, 1, 1, 1, 1, 1, 1, 1, 1, 1, 1, 1, 1, 2, 1, 1, 1, 1, 1])"
      ]
     },
     "execution_count": 4,
     "metadata": {},
     "output_type": "execute_result"
    }
   ],
   "source": [
    "from collections import Counter\n",
    "import numpy as np\n",
    "import matplotlib.pyplot as plt\n",
    "\n",
    "f=open('ChulaEngineering_all_messages.txt')\n",
    "tokens=f.read().split()\n",
    "f.close()\n",
    "\n",
    "#print(tokens)\n",
    "#Counter(tokens)\n",
    "#Counter(tokens).most_common()\n",
    "Counter(tokens).values()"
   ]
  },
  {
   "cell_type": "code",
   "execution_count": 6,
   "metadata": {},
   "outputs": [
    {
     "data": {
      "image/png": "[encoded data removed]",
      "text/plain": [
       "<Figure size 432x288 with 2 Axes>"
      ]
     },
     "metadata": {
      "needs_background": "light"
     },
     "output_type": "display_data"
    }
   ],
   "source": [
    "frequencies=np.array(list(Counter(tokens).values()))\n",
    "plt.subplot(211) #2 rows, 1 column, picture#1\n",
    "plt.hist(frequencies,bins=np.arange(0,100,1))\n",
    "\n",
    "x=np.arange(0.1,5,0.1)\n",
    "y=x**(-2.3)\n",
    "plt.subplot(212) #2 rows, 1 column, picture#2\n",
    "plt.plot(x,y)\n",
    "\n",
    "plt.show()"
   ]
  },
  {
   "cell_type": "code",
   "execution_count": 8,
   "metadata": {},
   "outputs": [
    {
     "name": "stdout",
     "output_type": "stream",
     "text": [
      "[[ 3  8 -4]]\n"
     ]
    }
   ],
   "source": [
    "import numpy as np\n",
    "x = np.array([[1,2,3]])\n",
    "y = np.array([[2,4,-2]])\n",
    "z = np.array([[1],[0],[2]])\n",
    "\n",
    "print(x*y+z.T)"
   ]
  },
  {
   "cell_type": "code",
   "execution_count": 9,
   "metadata": {},
   "outputs": [
    {
     "data": {
      "text/plain": [
       "array([-2,  0,  2])"
      ]
     },
     "execution_count": 9,
     "metadata": {},
     "output_type": "execute_result"
    }
   ],
   "source": [
    "np.arange(-2, 4, 2) "
   ]
  },
  {
   "cell_type": "code",
   "execution_count": 10,
   "metadata": {},
   "outputs": [
    {
     "data": {
      "image/png": "[encoded data removed]",
      "text/plain": [
       "<Figure size 432x288 with 1 Axes>"
      ]
     },
     "metadata": {
      "needs_background": "light"
     },
     "output_type": "display_data"
    }
   ],
   "source": [
    "import numpy as np\n",
    "import matplotlib.pyplot as plt\n",
    "x=np.arange(-3,3,0.1)\n",
    "y=x**2-2*x+5\n",
    "plt.plot(x,y)\n",
    "plt.show()"
   ]
  }
 ],
 "metadata": {
  "kernelspec": {
   "display_name": "Python 3",
   "language": "python",
   "name": "python3"
  },
  "language_info": {
   "codemirror_mode": {
    "name": "ipython",
    "version": 3
   },
   "file_extension": ".py",
   "mimetype": "text/x-python",
   "name": "python",
   "nbconvert_exporter": "python",
   "pygments_lexer": "ipython3",
   "version": "3.7.0"
  }
 },
 "nbformat": 4,
 "nbformat_minor": 2
}
