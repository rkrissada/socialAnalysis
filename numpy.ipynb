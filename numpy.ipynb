{
 "cells": [
  {
   "cell_type": "code",
   "execution_count": 3,
   "metadata": {},
   "outputs": [
    {
     "name": "stdout",
     "output_type": "stream",
     "text": [
      "488683\n",
      "time of list:  174765\n",
      "488683\n",
      "time of list:  2398\n"
     ]
    }
   ],
   "source": [
    "import random\n",
    "import numpy as np\n",
    "import datetime\n",
    "\n",
    "data1 = [[random.randint(0,99) for j in range(1000)] for i in range(1000)]\n",
    "count = 0\n",
    "\n",
    "start_time = datetime.datetime.now()\n",
    "for i in range(1000):\n",
    "    for j in range(1000):\n",
    "        if data1[i][j] > 50:\n",
    "            count += 1\n",
    "\n",
    "end_time = datetime.datetime.now()\n",
    "print(count)\n",
    "print('time of list: ',(end_time-start_time).microseconds)\n",
    "\n",
    "data2 = np.array(data1)\n",
    "\n",
    "start_time = datetime.datetime.now()\n",
    "count = np.sum(data2 > 50)\n",
    "end_time = datetime.datetime.now()\n",
    "print(count)\n",
    "print('time of list: ',(end_time-start_time).microseconds)"
   ]
  },
  {
   "cell_type": "code",
   "execution_count": 8,
   "metadata": {},
   "outputs": [
    {
     "name": "stdout",
     "output_type": "stream",
     "text": [
      "[[3 4]\n",
      " [5 6]]\n",
      "[[5 6]\n",
      " [7 8]]\n",
      "[[15 24]\n",
      " [35 48]]\n",
      "[[ 8 10]\n",
      " [12 14]]\n",
      "[[-2 -2]\n",
      " [-2 -2]]\n",
      "[[0.6        0.66666667]\n",
      " [0.71428571 0.75      ]]\n",
      "[[2 2 4]\n",
      " [5 5 7]]\n",
      "[[43 50]\n",
      " [67 78]]\n"
     ]
    }
   ],
   "source": [
    "import numpy as np\n",
    "\n",
    "a=np.array([[3,4],[5,6]])\n",
    "b=np.array([[5,6],[7,8]])\n",
    "\n",
    "print(a)\n",
    "print(b)\n",
    "\n",
    "print(a*b)\n",
    "print(a+b)\n",
    "print(a-b)\n",
    "print(a/b)\n",
    "\n",
    "c=np.array([[1,2,3],[4,5,6]])\n",
    "d=np.array([[1,0,1]])\n",
    "\n",
    "# array d will automatic boardcasting [[1,0,1],[1,0,1]]\n",
    "print(c+d)\n",
    "\n",
    "#dot product\n",
    "print(a.dot(b))"
   ]
  },
  {
   "cell_type": "code",
   "execution_count": null,
   "metadata": {},
   "outputs": [],
   "source": [
    "import numpy as np\n",
    "d=np.loadtxt('sample_data.csv',delimiter=',',skiprows=1,usecols=(1,2,3,4,5))\n",
    "print(d)\n",
    "print(np.sum(d,axis=1))\n",
    "print(d.dot(np.ones((5,1))))\n",
    "\n",
    "prices=np.array([[20,10,50,90]])\n",
    "print(prices.dot(d))\n",
    "print(d.dot(np.ones((5,1)))*prices.T)"
   ]
  },
  {
   "cell_type": "code",
   "execution_count": 16,
   "metadata": {},
   "outputs": [
    {
     "data": {
      "image/png": "[encoded data removed]",
      "text/plain": [
       "<Figure size 432x288 with 1 Axes>"
      ]
     },
     "metadata": {
      "needs_background": "light"
     },
     "output_type": "display_data"
    }
   ],
   "source": [
    "import numpy as np\n",
    "import matplotlib.pyplot as plt\n",
    "\n",
    "x = np.arange(-5,5,0.2)\n",
    "#print(x)\n",
    "y = 2*x+5\n",
    "#print(y)\n",
    "y2 = x**2+2*x-3  #x^2 + 2x -3 = Parabola\n",
    "\n",
    "plt.plot(x,y)\n",
    "plt.plot(x,y2)\n",
    "plt.xticks(np.arange(-5,5.1,1))\n",
    "plt.show()"
   ]
  }
 ],
 "metadata": {
  "kernelspec": {
   "display_name": "Python 3",
   "language": "python",
   "name": "python3"
  },
  "language_info": {
   "codemirror_mode": {
    "name": "ipython",
    "version": 3
   },
   "file_extension": ".py",
   "mimetype": "text/x-python",
   "name": "python",
   "nbconvert_exporter": "python",
   "pygments_lexer": "ipython3",
   "version": "3.7.0"
  }
 },
 "nbformat": 4,
 "nbformat_minor": 2
}
